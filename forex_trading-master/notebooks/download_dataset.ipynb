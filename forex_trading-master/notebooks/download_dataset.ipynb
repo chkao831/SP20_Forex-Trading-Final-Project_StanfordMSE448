{
 "cells": [
  {
   "cell_type": "code",
   "execution_count": null,
   "metadata": {},
   "outputs": [],
   "source": [
    "import sys\n",
    "sys.path.append('..')\n",
    "\n",
    "import os\n",
    "from pathlib import Path\n",
    "from tqdm import tqdm\n",
    "from utils import GCStorage\n",
    "from constants import CREDENTIAL_PATH"
   ]
  },
  {
   "cell_type": "code",
   "execution_count": null,
   "metadata": {},
   "outputs": [],
   "source": [
    "storage = GCStorage('FX_Trading', 'integral_data', CREDENTIAL_PATH)"
   ]
  },
  {
   "cell_type": "code",
   "execution_count": null,
   "metadata": {},
   "outputs": [],
   "source": [
    "downloads_dir = f'{os.getcwd()}/../../temp_store'\n",
    "preprocessed_data_dir = 'candle_300_data'\n",
    "new_path = Path(f'{downloads_dir}/{preprocessed_data_dir}')"
   ]
  },
  {
   "cell_type": "code",
   "execution_count": null,
   "metadata": {},
   "outputs": [],
   "source": [
    "fs = storage.list_files(preprocessed_data_dir)[1]\n",
    "print(fs)"
   ]
  },
  {
   "cell_type": "code",
   "execution_count": null,
   "metadata": {
    "scrolled": false
   },
   "outputs": [],
   "source": [
    "from multiprocessing import Pool\n",
    "valid_pairs = ['AUDUSD']  #, 'EURUSD', 'GBPUSD', 'NZDUSD', 'USDCAD', 'USDCHF', 'USDJPY']"
   ]
  },
  {
   "cell_type": "code",
   "execution_count": null,
   "metadata": {
    "scrolled": false
   },
   "outputs": [],
   "source": [
    "arguments = list(fs['AUDUSD'].keys())\n",
    "\n",
    "def do_download(date):\n",
    "    for pair in valid_pairs:\n",
    "        for fname in fs[pair][date]:\n",
    "            fpath = new_path / pair / date / fname\n",
    "            \n",
    "            print(fpath)\n",
    "            cloud_path = Path(preprocessed_data_dir) / pair / date / fname\n",
    "            \n",
    "            count = 0\n",
    "            while count < 5:\n",
    "                try:\n",
    "                    storage.download(fpath, cloud_path)\n",
    "                    count = 100\n",
    "                except:\n",
    "                    count += 1\n",
    "                    if count >= 5:\n",
    "                        print(f'Could not download {fpath}')\n",
    "            \n",
    "\n",
    "pl = Pool(12)\n",
    "pl.map(do_download, arguments)"
   ]
  },
  {
   "cell_type": "code",
   "execution_count": null,
   "metadata": {},
   "outputs": [],
   "source": []
  }
 ],
 "metadata": {
  "kernelspec": {
   "display_name": "Python 3",
   "language": "python",
   "name": "python3"
  },
  "language_info": {
   "codemirror_mode": {
    "name": "ipython",
    "version": 3
   },
   "file_extension": ".py",
   "mimetype": "text/x-python",
   "name": "python",
   "nbconvert_exporter": "python",
   "pygments_lexer": "ipython3",
   "version": "3.7.4"
  }
 },
 "nbformat": 4,
 "nbformat_minor": 2
}
