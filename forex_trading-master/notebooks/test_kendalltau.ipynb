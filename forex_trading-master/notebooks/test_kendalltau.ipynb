{
 "cells": [
  {
   "cell_type": "code",
   "execution_count": 69,
   "metadata": {},
   "outputs": [],
   "source": [
    "from scipy import stats\n",
    "import numpy as np\n",
    "import time"
   ]
  },
  {
   "cell_type": "code",
   "execution_count": 70,
   "metadata": {},
   "outputs": [],
   "source": [
    "def kt(gt, pred):\n",
    "    return stats.kendalltau(gt, pred)"
   ]
  },
  {
   "cell_type": "code",
   "execution_count": 71,
   "metadata": {},
   "outputs": [],
   "source": [
    "def c_index(gt, pred, **kwargs):\n",
    "    '''Faster implementation of c-stat.'''\n",
    "    assert len(gt) == len(pred), \\\n",
    "        'Ground truth must have same size as predictions'\n",
    "    gt_greater = np.greater.outer(gt, gt)\n",
    "    pd_eq = np.equal.outer(pred, pred)\n",
    "    pd_greater = np.greater.outer(pred, pred)\n",
    "    pd_total = 0.5 * pd_eq + pd_greater\n",
    "    n = np.sum(gt_greater)\n",
    "    if n == 0:\n",
    "        if 'throw_error' in kwargs:\n",
    "            raise ValueError(f'All ground truth values equal to {gt[0]}')\n",
    "        else:\n",
    "            return 0\n",
    "    result = np.sum(np.multiply(gt_greater, pd_total)) / n\n",
    "    return result"
   ]
  },
  {
   "cell_type": "code",
   "execution_count": 72,
   "metadata": {},
   "outputs": [],
   "source": [
    "#x1 = [12, 2, 1, 12, 2]\n",
    "#x2 = [1, 4, 7, 1, 0]\n",
    "\n",
    "pred = np.random.randint(low=0, high=100, size=100)\n",
    "gt = np.arange(100)"
   ]
  },
  {
   "cell_type": "code",
   "execution_count": 77,
   "metadata": {},
   "outputs": [
    {
     "name": "stdout",
     "output_type": "stream",
     "text": [
      "0.4924841445298045\n",
      "p: 0.825525483801351\n",
      "Time: 0.0013036727905273438\n"
     ]
    }
   ],
   "source": [
    "start = time.time()\n",
    "tau, p_value = kt(gt, pred)\n",
    "\n",
    "tau = tau / 2 + 0.5\n",
    "end = time.time()\n",
    "print(tau)\n",
    "print(f'p: {p_value}')\n",
    "print(f'Time: {end - start}')"
   ]
  },
  {
   "cell_type": "code",
   "execution_count": 78,
   "metadata": {},
   "outputs": [
    {
     "name": "stdout",
     "output_type": "stream",
     "text": [
      "Time: 0.0006878376007080078\n"
     ]
    }
   ],
   "source": [
    "start = time.time()\n",
    "c_index(gt, pred)\n",
    "end = time.time()\n",
    "print(f'Time: {end - start}')"
   ]
  },
  {
   "cell_type": "code",
   "execution_count": null,
   "metadata": {},
   "outputs": [],
   "source": []
  },
  {
   "cell_type": "code",
   "execution_count": null,
   "metadata": {},
   "outputs": [],
   "source": []
  }
 ],
 "metadata": {
  "kernelspec": {
   "display_name": "Python 3",
   "language": "python",
   "name": "python3"
  },
  "language_info": {
   "codemirror_mode": {
    "name": "ipython",
    "version": 3
   },
   "file_extension": ".py",
   "mimetype": "text/x-python",
   "name": "python",
   "nbconvert_exporter": "python",
   "pygments_lexer": "ipython3",
   "version": "3.7.4"
  }
 },
 "nbformat": 4,
 "nbformat_minor": 2
}
