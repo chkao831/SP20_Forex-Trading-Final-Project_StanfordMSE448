{
 "cells": [
  {
   "cell_type": "code",
   "execution_count": 1,
   "metadata": {},
   "outputs": [],
   "source": [
    "%load_ext autoreload\n",
    "%autoreload 2"
   ]
  },
  {
   "cell_type": "code",
   "execution_count": 2,
   "metadata": {},
   "outputs": [],
   "source": [
    "import sys\n",
    "sys.path.append('..')\n",
    "\n",
    "import os\n",
    "import re\n",
    "from collections import defaultdict\n",
    "import pprint as pp\n",
    "\n",
    "from tqdm import tqdm\n",
    "RE_FNAME = re.compile(r'LP\\-(?P<idx>[0-9])\\-STRM\\-[0-9]\\-(?P<pair>[A-Z]+).*\\.csv')\n",
    "\n",
    "from utils import GCStorage\n",
    "from constants import CREDENTIAL_PATH, ALL_DAYS\n",
    "\n",
    "import pandas as pd\n",
    "\n",
    "import shutil\n",
    "import csv\n",
    "import numpy as np\n",
    "from subprocess import call\n",
    "import pickle\n",
    "\n",
    "import datetime\n",
    "from dateutil.parser import parse\n",
    "from pathlib import Path\n",
    "\n",
    "from utils import *"
   ]
  },
  {
   "cell_type": "code",
   "execution_count": 9,
   "metadata": {},
   "outputs": [],
   "source": [
    "time_interval = 10"
   ]
  },
  {
   "cell_type": "code",
   "execution_count": 10,
   "metadata": {},
   "outputs": [],
   "source": [
    "pickle_path = Path('/sailhome/jingbo/CXR_RELATED/temp_store/pickled_data')\n",
    "processed_30s_path = Path(f'/sailhome/jingbo/CXR_RELATED/temp_store/processed_{time_interval}s_data')\n",
    "\n",
    "processed_30s_path.mkdir(parents=True, exist_ok=True)"
   ]
  },
  {
   "cell_type": "code",
   "execution_count": 11,
   "metadata": {},
   "outputs": [],
   "source": [
    "storage = GCStorage('FX_Trading', 'integral_data', CREDENTIAL_PATH)"
   ]
  },
  {
   "cell_type": "code",
   "execution_count": 12,
   "metadata": {},
   "outputs": [],
   "source": [
    "candle_interval = datetime.timedelta(seconds=time_interval)"
   ]
  },
  {
   "cell_type": "code",
   "execution_count": 13,
   "metadata": {},
   "outputs": [
    {
     "name": "stderr",
     "output_type": "stream",
     "text": [
      " 44%|████▍     | 11/25 [05:59<07:56, 34.03s/it]"
     ]
    },
    {
     "name": "stdout",
     "output_type": "stream",
     "text": [
      "Failed at 2019-02-14 AUDUSD 2\n"
     ]
    },
    {
     "name": "stderr",
     "output_type": "stream",
     "text": [
      "100%|██████████| 25/25 [14:40<00:00, 40.50s/it]\n"
     ]
    }
   ],
   "source": [
    "for day in tqdm(ALL_DAYS):\n",
    "    # print(day)\n",
    "    # for day in ['2019-02-05']:\n",
    "    for pair in ['AUDUSD', 'EURUSD', 'GBPUSD', 'USDCAD', 'USDCHF']:\n",
    "        # print(pair)\n",
    "        for lp in range(1, 6):\n",
    "            # print(lp)\n",
    "            \n",
    "            try:\n",
    "                start_time = parse(day)\n",
    "                end_time = start_time + datetime.timedelta(days=1)\n",
    "                whole_day = start_time.replace(minute=0, hour=0,\n",
    "                                               second=0, microsecond=0)\n",
    "                nice_date = whole_day.strftime('%Y%m%d')\n",
    "                fname = f'{nice_date}-{pair}-{lp}.pickle'\n",
    "                pickled_file = pickle_path / pair / nice_date / fname\n",
    "\n",
    "                day_df = pickle.load(open(pickled_file, 'rb'))\n",
    "\n",
    "                candles = generate_candles(day_df, f'{time_interval}s', 'mid price', get_df=False)\n",
    "\n",
    "                candle_df = pad_candle(candles, candle_interval,\n",
    "                                       start_time, end_time)\n",
    "\n",
    "                processed_file = processed_30s_path / pair / nice_date / fname\n",
    "                os.makedirs(processed_30s_path / pair / nice_date, exist_ok=True)\n",
    "                pickle.dump(candle_df, open(processed_file, 'wb'))\n",
    "\n",
    "                cloud_path = Path(f'processed_{time_interval}s_data') / pair / nice_date / fname\n",
    "                storage.upload(processed_file, cloud_path)\n",
    "            except:\n",
    "                print(f'Failed at {day} {pair} {lp}')\n"
   ]
  },
  {
   "cell_type": "code",
   "execution_count": null,
   "metadata": {},
   "outputs": [],
   "source": [
    "candle_df"
   ]
  },
  {
   "cell_type": "code",
   "execution_count": null,
   "metadata": {},
   "outputs": [],
   "source": []
  }
 ],
 "metadata": {
  "kernelspec": {
   "display_name": "Python 3",
   "language": "python",
   "name": "python3"
  },
  "language_info": {
   "codemirror_mode": {
    "name": "ipython",
    "version": 3
   },
   "file_extension": ".py",
   "mimetype": "text/x-python",
   "name": "python",
   "nbconvert_exporter": "python",
   "pygments_lexer": "ipython3",
   "version": "3.6.8"
  }
 },
 "nbformat": 4,
 "nbformat_minor": 2
}
