{
 "cells": [
  {
   "cell_type": "markdown",
   "metadata": {},
   "source": [
    "# Examine spread for currency pairs\n",
    "\n",
    "* NYC <==> Chicago trip, Google ping 1 way is 22.7ms, so a round trip takes about 50ms. A trading window of 20-50 ms is perhaps actionable, more than 50ms is definitely actionable.\n",
    "\n",
    "* NYC <==> San Francisco, Google ping 1 way is 69.7ms, round trip is abour 140ms. A trading window of 70-140 ms is perhaps actionable, more than 150ms is definitely actionable.\n",
    "\n",
    "* NYC <==> London is only a tiny bit slower than London.\n",
    "\n",
    "* NYC <==> Hong Kong, Google ping is 247ms, a round trip is then about 500ms. Singapore is ~260ms one way.\n",
    "\n",
    "See Ping time from NYC here\n",
    "https://wondernetwork.com/pings/New%20York"
   ]
  },
  {
   "cell_type": "code",
   "execution_count": null,
   "metadata": {},
   "outputs": [],
   "source": [
    "import sys\n",
    "sys.path.append('..')\n",
    "\n",
    "import time\n",
    "import os\n",
    "import re\n",
    "from collections import defaultdict\n",
    "import pprint as pp\n",
    "import copy\n",
    "\n",
    "from tqdm import tqdm\n",
    "RE_FNAME = re.compile(r'LP\\-(?P<idx>[0-9])\\-STRM\\-[0-9]\\-(?P<pair>[A-Z]+).*\\.csv')\n",
    "\n",
    "from utils import GCStorage\n",
    "from constants import CREDENTIAL_PATH, ALL_DAYS\n",
    "\n",
    "import pandas as pd\n",
    "\n",
    "import shutil\n",
    "import csv\n",
    "import numpy as np\n",
    "from subprocess import call\n",
    "import pickle\n",
    "import matplotlib.pyplot as plt\n",
    "from matplotlib.ticker import FormatStrFormatter\n",
    "\n",
    "import datetime\n",
    "from dateutil.parser import parse\n",
    "from pathlib import Path\n",
    "\n",
    "from utils import GCStorage\n",
    "from constants import *\n",
    "from multiprocessing import Pool, Manager, Value\n"
   ]
  },
  {
   "cell_type": "code",
   "execution_count": null,
   "metadata": {},
   "outputs": [],
   "source": [
    "pair = 'NZDUSD'"
   ]
  },
  {
   "cell_type": "markdown",
   "metadata": {},
   "source": [
    "## Histogram for Trading Window. Statistics for Diff (in pip)"
   ]
  },
  {
   "cell_type": "code",
   "execution_count": null,
   "metadata": {},
   "outputs": [],
   "source": [
    "def process_inversion_for_day(inversions):\n",
    "    \n",
    "    trading_windows = []\n",
    "    diffs = []\n",
    "    for inv in inversions:\n",
    "\n",
    "        #print('Diff', inv[\"price diff\"])\n",
    "        #print(f'Starting spread: {round(inv[\"last valid bid\"], 8)} - {round(inv[\"last valid ask\"], 8)}')\n",
    "        #print(f'Bid time: {inv[\"bid time\"]}')\n",
    "        #print(f'Ask time: {inv[\"ask time\"]}')\n",
    "\n",
    "\n",
    "        #print(start_time)\n",
    "\n",
    "        #print('Last => Exit bid time', inv[\"last valid bid time\"], inv[\"exit bid time\"])\n",
    "        #print('Last => Exit ask time', inv[\"last valid ask time\"], inv[\"exit ask time\"])\n",
    "\n",
    "        start_time = max(inv[\"bid time\"], inv[\"ask time\"])\n",
    "        last_valid = min(inv[\"last valid bid time\"], inv[\"last valid ask time\"])\n",
    "        trading_window = int(round((last_valid - start_time).total_seconds() * 1000))\n",
    "\n",
    "        if trading_window <= 0:\n",
    "            continue\n",
    "            \n",
    "        #print(last_valid)\n",
    "\n",
    "        #print('Trading Window (Miliseconds)', trading_window, f'{start_time} - {last_valid}')\n",
    "\n",
    "\n",
    "        exit_time = min(inv[\"exit bid time\"], inv[\"exit ask time\"])\n",
    "        #print(exit_time)\n",
    "\n",
    "\n",
    "        #print('----')\n",
    "        #print(f'Dif: {inv[\"price diff\"]} pip\\t{t_diff} milisec')\n",
    "        #print(f'Bid: {inv[\"bid\"]}\\t{inv[\"bid time\"]}')\n",
    "        #print(f'Ask: {inv[\"ask\"]}\\t{inv[\"ask time\"]}')\n",
    "        #print('--------')\n",
    "        \n",
    "        trading_windows.append(trading_window)\n",
    "        diffs.append(inv[\"price diff\"])\n",
    "    \n",
    "    return trading_windows, diffs"
   ]
  },
  {
   "cell_type": "code",
   "execution_count": null,
   "metadata": {
    "scrolled": true
   },
   "outputs": [],
   "source": [
    "all_diffs = []\n",
    "all_trading_windows = []\n",
    "for day in ALL_DAYS:\n",
    "    fname = f'inversions/{pair}/{pair}_{day}.pickle'\n",
    "    if os.path.exists(fname):\n",
    "        print(f'Loaded {day}')\n",
    "        inversion = pickle.load(open(fname, 'rb'))\n",
    "        print(len(inversion))\n",
    "\n",
    "        trading_windows, diffs = process_inversion_for_day(inversion)\n",
    "        all_trading_windows.extend(trading_windows)\n",
    "        all_diffs.extend(diffs)"
   ]
  },
  {
   "cell_type": "code",
   "execution_count": null,
   "metadata": {},
   "outputs": [],
   "source": [
    "uniques, counts = np.unique(all_diffs, return_counts=True)\n",
    "\n",
    "for v, c in zip(uniques, counts):\n",
    "    print(f'Diff(pip): {v}\\tCount: {c}')\n",
    "    \n",
    "\n",
    "plt.figure(figsize=(12,5), dpi=100) # 640 x 450\n",
    "\n",
    "axes = plt.subplot(111)\n",
    "\n",
    "axes.hist(all_diffs, bins=[0, 0.1, 0.2, 0.3, 0.4, 0.5, 0.6, 0.7, 0.8, 0.9, 1])\n",
    "\n",
    "axes.set_title(f'Histogram for Trading Diff ({pair})')\n",
    "axes.set_xlabel('Difference (pip)')\n",
    "axes.set_yscale('log', nonposy='clip')\n",
    "# axes.xaxis.set_minor_formatter(FormatStrFormatter(\"%d\"))\n",
    "# plt.setp(axes.get_xticklabels(minor=True), visible=True)\n",
    "\n",
    "plt.xlim(0, 1)\n",
    "plt.grid()"
   ]
  },
  {
   "cell_type": "code",
   "execution_count": null,
   "metadata": {},
   "outputs": [],
   "source": [
    "plt.figure(figsize=(12,5), dpi=100) # 640 x 450\n",
    "\n",
    "axes = plt.subplot(111)\n",
    "\n",
    "axes.set_xscale('log')\n",
    "axes.set_yscale('log', nonposy='clip')\n",
    "axes.hist(all_trading_windows, bins=[0, 1, 20, 50, 100, 250, 500, 1000])\n",
    "\n",
    "axes.set_title(f'Histogram for Trading Windows ({pair})')\n",
    "axes.set_xlabel('Trading Window in Miliseconds')\n",
    "axes.set_xticks([0, 1, 20, 50, 100, 250, 500, 1000])\n",
    "# axes.xaxis.set_minor_formatter(FormatStrFormatter(\"%d\"))\n",
    "# plt.setp(axes.get_xticklabels(minor=True), visible=True)\n",
    "\n",
    "plt.xlim(0, 1500)\n",
    "plt.grid()"
   ]
  },
  {
   "cell_type": "markdown",
   "metadata": {},
   "source": [
    "## Bar Chart for \"Tradable\" Instances (NYC-Chicago) for Time of Day"
   ]
  },
  {
   "cell_type": "code",
   "execution_count": null,
   "metadata": {},
   "outputs": [],
   "source": [
    "min_slot = 1.25 * 50"
   ]
  },
  {
   "cell_type": "code",
   "execution_count": null,
   "metadata": {},
   "outputs": [],
   "source": [
    "def process_inversion_for_day(inversions):\n",
    "    \n",
    "    trading_windows = np.zeros(24)  # I guess there are 24 hours a day?\n",
    "    diffs = []\n",
    "    for inv in inversions:\n",
    "\n",
    "        #print('Diff', inv[\"price diff\"])\n",
    "        #print(f'Starting spread: {round(inv[\"last valid bid\"], 8)} - {round(inv[\"last valid ask\"], 8)}')\n",
    "        #print(f'Bid time: {inv[\"bid time\"]}')\n",
    "        #print(f'Ask time: {inv[\"ask time\"]}')\n",
    "\n",
    "        #print(start_time)\n",
    "\n",
    "        #print('Last => Exit bid time', inv[\"last valid bid time\"], inv[\"exit bid time\"])\n",
    "        #print('Last => Exit ask time', inv[\"last valid ask time\"], inv[\"exit ask time\"])\n",
    "\n",
    "        start_time = max(inv[\"bid time\"], inv[\"ask time\"])\n",
    "        last_valid = min(inv[\"last valid bid time\"], inv[\"last valid ask time\"])\n",
    "        trading_window = int(round((last_valid - start_time).total_seconds() * 1000))\n",
    "\n",
    "        if trading_window < min_slot:\n",
    "            continue\n",
    "            \n",
    "        #print(last_valid)\n",
    "\n",
    "        #print('Trading Window (Miliseconds)', trading_window, f'{start_time} - {last_valid}')\n",
    "\n",
    "\n",
    "        exit_time = min(inv[\"exit bid time\"], inv[\"exit ask time\"])\n",
    "        #print(exit_time)\n",
    "\n",
    "\n",
    "        #print('----')\n",
    "        #print(f'Dif: {inv[\"price diff\"]} pip\\t{t_diff} milisec')\n",
    "        #print(f'Bid: {inv[\"bid\"]}\\t{inv[\"bid time\"]}')\n",
    "        #print(f'Ask: {inv[\"ask\"]}\\t{inv[\"ask time\"]}')\n",
    "        #print('--------')\n",
    "        \n",
    "        # trading_windows.append(trading_window)\n",
    "        trading_windows[inv[\"bid time\"].hour] += 1\n",
    "        diffs.append(inv[\"price diff\"])\n",
    "    \n",
    "    return trading_windows, diffs"
   ]
  },
  {
   "cell_type": "code",
   "execution_count": null,
   "metadata": {
    "scrolled": true
   },
   "outputs": [],
   "source": [
    "all_hours = np.zeros(24)\n",
    "all_diffs = []\n",
    "for day in ALL_DAYS:\n",
    "    fname = f'inversions/{pair}/{pair}_{day}.pickle'\n",
    "    if os.path.exists(fname):\n",
    "        print(f'Loaded {day}')\n",
    "        inversion = pickle.load(open(fname, 'rb'))\n",
    "        print(len(inversion))\n",
    "\n",
    "        hours, diffs = process_inversion_for_day(inversion)\n",
    "        all_hours += hours\n",
    "        all_diffs.extend(diffs)"
   ]
  },
  {
   "cell_type": "code",
   "execution_count": null,
   "metadata": {},
   "outputs": [],
   "source": [
    "uniques, counts = np.unique(all_diffs, return_counts=True)\n",
    "\n",
    "profit = 0\n",
    "for v, c in zip(uniques, counts):\n",
    "    print(f'Diff(pip): {v}\\tCount: {c}')\n",
    "    profit += 1000 * v\n",
    "print(f'Potential profit: {profit}')\n",
    "    \n",
    "\n",
    "plt.figure(figsize=(12,5), dpi=100) # 640 x 450\n",
    "\n",
    "axes = plt.subplot(111)\n",
    "\n",
    "axes.hist(all_diffs, bins=[0, 0.1, 0.2, 0.3, 0.4, 0.5, 0.6, 0.7, 0.8, 0.9, 1])\n",
    "\n",
    "axes.set_title(f'Histogram for Tradable Diff ({pair})(window > {min_slot}ms)')\n",
    "axes.set_xlabel('Difference (pip)')\n",
    "axes.set_yscale('log', nonposy='clip')\n",
    "# axes.xaxis.set_minor_formatter(FormatStrFormatter(\"%d\"))\n",
    "# plt.setp(axes.get_xticklabels(minor=True), visible=True)\n",
    "\n",
    "plt.xlim(0, 1)\n",
    "plt.grid()"
   ]
  },
  {
   "cell_type": "code",
   "execution_count": null,
   "metadata": {},
   "outputs": [],
   "source": [
    "plt.figure(figsize=(12,5), dpi=100) # 640 x 450\n",
    "\n",
    "axes = plt.subplot(111)\n",
    "\n",
    "#axes.set_xscale('log')\n",
    "#axes.set_yscale('log', nonposy='clip')\n",
    "axes.bar(np.array(range(0, 24)), all_hours, align='edge')\n",
    "\n",
    "axes.set_title(f'Bar Chart for Trading Windows ({pair})(window > {min_slot}ms)')\n",
    "axes.set_xlabel('Time of Day')\n",
    "axes.set_ylabel('Number of Tradable Opportunities')\n",
    "axes.set_xticks([0, 4, 8, 12, 16, 20, 24])\n",
    "\n",
    "# plt.xlim(0, 1500)\n",
    "plt.grid()"
   ]
  },
  {
   "cell_type": "code",
   "execution_count": null,
   "metadata": {},
   "outputs": [],
   "source": []
  }
 ],
 "metadata": {
  "kernelspec": {
   "display_name": "Python 3",
   "language": "python",
   "name": "python3"
  },
  "language_info": {
   "codemirror_mode": {
    "name": "ipython",
    "version": 3
   },
   "file_extension": ".py",
   "mimetype": "text/x-python",
   "name": "python",
   "nbconvert_exporter": "python",
   "pygments_lexer": "ipython3",
   "version": "3.7.4"
  }
 },
 "nbformat": 4,
 "nbformat_minor": 2
}
